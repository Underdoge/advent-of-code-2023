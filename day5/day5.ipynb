{
 "cells": [
  {
   "cell_type": "markdown",
   "metadata": {},
   "source": [
    "## Day 5\n",
    "### Part 1"
   ]
  },
  {
   "cell_type": "code",
   "execution_count": 2,
   "metadata": {},
   "outputs": [
    {
     "name": "stdout",
     "output_type": "stream",
     "text": [
      "993500720\n",
      "Took 0.0112 seconds\n"
     ]
    }
   ],
   "source": [
    "import time\n",
    "\n",
    "\n",
    "def location_from_seed(seed_number: int, filename: str) -> int:\n",
    "    previous_value = seed_number\n",
    "    next_value = 0\n",
    "    with open(filename) as file:\n",
    "        for line in file:\n",
    "            if line != \"\\n\" and line.split()[0] != \"seeds:\" and (\n",
    "                line.split()[1] != \"map:\"):\n",
    "                dest_range_start, source_range_start, range_length = (\n",
    "                    int(line.split()[0]),\n",
    "                    int(line.split()[1]),\n",
    "                    int(line.split()[2]))\n",
    "                if previous_value >= source_range_start and (\n",
    "                    previous_value < source_range_start+range_length):\n",
    "                    next_value = previous_value+(\n",
    "                        dest_range_start-source_range_start)\n",
    "            elif line != \"\\n\" and line.split()[1] == \"map:\":\n",
    "                if next_value != 0:\n",
    "                    previous_value = next_value\n",
    "                    next_value = 0\n",
    "        if next_value != 0:\n",
    "            return next_value\n",
    "        else:\n",
    "            return previous_value\n",
    "\n",
    "def read_seeds(filename: str) -> list:\n",
    "    seeds = []\n",
    "    with open(filename) as file:\n",
    "        line = file.readline()\n",
    "        seeds = line.split()[1:]\n",
    "    return seeds\n",
    "\n",
    "\n",
    "def smallest_location(filename: str) -> int:\n",
    "    seeds = read_seeds(filename)\n",
    "    locations = []\n",
    "    for seed in seeds:\n",
    "        locations.append(location_from_seed(int(seed), filename))\n",
    "    return min(locations)\n",
    "\n",
    "\n",
    "tic = time.perf_counter()\n",
    "print(smallest_location(\"input.txt\"))\n",
    "toc = time.perf_counter()\n",
    "print(f\"Took {toc - tic:0.4f} seconds\")\n"
   ]
  },
  {
   "cell_type": "markdown",
   "metadata": {},
   "source": [
    "### Part 2"
   ]
  },
  {
   "cell_type": "code",
   "execution_count": 3,
   "metadata": {},
   "outputs": [
    {
     "name": "stdout",
     "output_type": "stream",
     "text": [
      "Seed: 304740406 Target: 357943758\n"
     ]
    }
   ],
   "source": [
    "import time\n",
    "\n",
    "\n",
    "def read_ranges(filename: str) -> list:\n",
    "    ranges = []\n",
    "    range = []\n",
    "    with open(filename) as file:\n",
    "        for line in file:\n",
    "            if line != \"\\n\" and line.split()[0] != \"seeds:\" and (\n",
    "                line.split()[1] != \"map:\"):\n",
    "                dest_range_start, source_range_start, range_length = (\n",
    "                    int(line.split()[0]),\n",
    "                    int(line.split()[1]),\n",
    "                    int(line.split()[2]))\n",
    "                range.append([dest_range_start, source_range_start, range_length])\n",
    "            elif line != \"\\n\" and line.split()[1] == \"map:\":\n",
    "                if len(range) > 0:\n",
    "                    ranges.append(range)\n",
    "                    range = []\n",
    "    return ranges\n",
    "\n",
    "\n",
    "def location_from_seed(seed_number: int, ranges: list) -> int:\n",
    "    current_value = seed_number\n",
    "    next_value = 0\n",
    "    for range in ranges:\n",
    "        for dest_range_start, source_range_start, range_length in range:\n",
    "            top = source_range_start+range_length\n",
    "            if current_value >= source_range_start and (\n",
    "                current_value < top):\n",
    "                next_value = current_value+(\n",
    "                    dest_range_start-source_range_start)\n",
    "        if next_value != 0:\n",
    "            current_value = next_value\n",
    "            next_value = 0\n",
    "    if next_value != 0:\n",
    "        return next_value\n",
    "    else:\n",
    "        return current_value\n",
    "\n",
    "def read_seeds(filename: str) -> list:\n",
    "    seeds = []\n",
    "    with open(filename) as file:\n",
    "        line = file.readline()\n",
    "        seeds = line.split()[1:]\n",
    "    return seeds\n",
    "\n",
    "\n",
    "def smallest_location(filename: str) -> int:\n",
    "    seeds = read_seeds(filename)\n",
    "    ranges = read_ranges(filename)\n",
    "    last_smallest_location = 10000000\n",
    "    x=0\n",
    "    while x+1 <= len(seeds):\n",
    "        print(\"Seed:\", int(seeds[x]), \"Target:\", int(seeds[x])+int(seeds[x+1]))\n",
    "        for seed in range(int(seeds[x]), int(seeds[x])+int(seeds[x+1]), 1):\n",
    "            new_loc = location_from_seed(int(seed), ranges)\n",
    "            if new_loc < last_smallest_location:\n",
    "                last_smallest_location = new_loc\n",
    "        x += 2\n",
    "    return last_smallest_location\n",
    "\n",
    "\n",
    "if __name__ == '__main__':\n",
    "    tic = time.perf_counter()\n",
    "    print(smallest_location(\"input.txt\"))\n",
    "    toc = time.perf_counter()\n",
    "    print(f\"Took {toc - tic:0.4f} seconds\")\n"
   ]
  }
 ],
 "metadata": {
  "kernelspec": {
   "display_name": "venv",
   "language": "python",
   "name": "python3"
  },
  "language_info": {
   "codemirror_mode": {
    "name": "ipython",
    "version": 3
   },
   "file_extension": ".py",
   "mimetype": "text/x-python",
   "name": "python",
   "nbconvert_exporter": "python",
   "pygments_lexer": "ipython3",
   "version": "3.11.6"
  }
 },
 "nbformat": 4,
 "nbformat_minor": 2
}
