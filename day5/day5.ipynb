{
 "cells": [
  {
   "cell_type": "markdown",
   "metadata": {},
   "source": [
    "## Day 5\n",
    "### Part 1"
   ]
  },
  {
   "cell_type": "code",
   "execution_count": 2,
   "metadata": {},
   "outputs": [
    {
     "name": "stdout",
     "output_type": "stream",
     "text": [
      "993500720\n",
      "Took 0.0112 seconds\n"
     ]
    }
   ],
   "source": [
    "import time\n",
    "\n",
    "\n",
    "def location_from_seed(seed_number: int, filename: str) -> int:\n",
    "    previous_value = seed_number\n",
    "    next_value = 0\n",
    "    with open(filename) as file:\n",
    "        for line in file:\n",
    "            if line != \"\\n\" and line.split()[0] != \"seeds:\" and (\n",
    "                line.split()[1] != \"map:\"):\n",
    "                dest_range_start, source_range_start, range_length = (\n",
    "                    int(line.split()[0]),\n",
    "                    int(line.split()[1]),\n",
    "                    int(line.split()[2]))\n",
    "                if previous_value >= source_range_start and (\n",
    "                    previous_value < source_range_start+range_length):\n",
    "                    next_value = previous_value+(\n",
    "                        dest_range_start-source_range_start)\n",
    "            elif line != \"\\n\" and line.split()[1] == \"map:\":\n",
    "                if next_value != 0:\n",
    "                    previous_value = next_value\n",
    "                    next_value = 0\n",
    "        if next_value != 0:\n",
    "            return next_value\n",
    "        else:\n",
    "            return previous_value\n",
    "\n",
    "def read_seeds(filename: str) -> list:\n",
    "    seeds = []\n",
    "    with open(filename) as file:\n",
    "        line = file.readline()\n",
    "        seeds = line.split()[1:]\n",
    "    return seeds\n",
    "\n",
    "\n",
    "def smallest_location(filename: str) -> int:\n",
    "    seeds = read_seeds(filename)\n",
    "    locations = []\n",
    "    for seed in seeds:\n",
    "        locations.append(location_from_seed(int(seed), filename))\n",
    "    return min(locations)\n",
    "\n",
    "\n",
    "tic = time.perf_counter()\n",
    "print(smallest_location(\"input.txt\"))\n",
    "toc = time.perf_counter()\n",
    "print(f\"Took {toc - tic:0.4f} seconds\")\n"
   ]
  },
  {
   "cell_type": "markdown",
   "metadata": {},
   "source": [
    "### Part 2"
   ]
  }
 ],
 "metadata": {
  "kernelspec": {
   "display_name": "venv",
   "language": "python",
   "name": "python3"
  },
  "language_info": {
   "codemirror_mode": {
    "name": "ipython",
    "version": 3
   },
   "file_extension": ".py",
   "mimetype": "text/x-python",
   "name": "python",
   "nbconvert_exporter": "python",
   "pygments_lexer": "ipython3",
   "version": "3.11.6"
  }
 },
 "nbformat": 4,
 "nbformat_minor": 2
}
